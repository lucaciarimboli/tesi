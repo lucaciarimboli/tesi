{
 "cells": [
  {
   "cell_type": "code",
   "execution_count": 1,
   "id": "5fc91b85",
   "metadata": {},
   "outputs": [],
   "source": [
    "from firedrake import *\n",
    "from firedrake.pyplot import *\n",
    "import matplotlib.pyplot as plt\n",
    "import numpy as np\n",
    "from firedrake.cython import dmcommon\n",
    "from firedrake.mesh import plex_from_cell_list"
   ]
  },
  {
   "cell_type": "code",
   "execution_count": 2,
   "id": "05f8178e",
   "metadata": {},
   "outputs": [],
   "source": [
    "mesh = Mesh(\"../meshes/ITER.msh\", dim = 2, distribution_parameters={\"partition\": False}, reorder = True)\n",
    "mesh.init()"
   ]
  },
  {
   "cell_type": "code",
   "execution_count": 8,
   "id": "0ac46e9d",
   "metadata": {},
   "outputs": [],
   "source": [
    "# Define a function space as tool to access nodes and cells:\n",
    "V = FunctionSpace(mesh, \"CG\", 1)\n",
    "\n",
    "# Fill \"dof_coords\" vector with the coordinates of the boundary nodes of the 2D mesh\n",
    "coord_func = Function(VectorFunctionSpace(mesh, \"CG\", 1)).interpolate(as_vector(SpatialCoordinate(mesh)))\n",
    "#dofs = DirichletBC(V_tool, 0.0, 15).nodes\n",
    "dofs = V.boundary_nodes(15)\n",
    "dof_coords = coord_func.dat.data_ro[dofs]"
   ]
  },
  {
   "cell_type": "code",
   "execution_count": 13,
   "id": "211cd750",
   "metadata": {},
   "outputs": [
    {
     "name": "stdout",
     "output_type": "stream",
     "text": [
      "Number of boundary dofs: 68\n",
      "Number of exterior faceta: 68\n",
      "Number of boundary facets: 68\n",
      "Total number of cells: 5124\n",
      "Total number of vertices: 2597\n",
      "Total number of dofs: 2597\n"
     ]
    }
   ],
   "source": [
    "facets = mesh.topology.exterior_facets.facets\n",
    "boundary_cells = mesh.topology.exterior_facets.facet_cell_map.values\n",
    "print(f'Number of boundary dofs: {len(dofs)}')\n",
    "print(f'Number of exterior faceta: {len(facets)}')        \n",
    "print(f'Number of boundary facets: {len(boundary_cells)}')\n",
    "print(f'Total number of cells: {mesh.topology.num_cells()}')\n",
    "print(f'Total number of vertices: {mesh.topology.num_vertices()}')\n",
    "print(f'Total number of dofs: {V.dof_count}')\n"
   ]
  },
  {
   "cell_type": "code",
   "execution_count": null,
   "id": "adff7029",
   "metadata": {},
   "outputs": [],
   "source": [
    "# For each dof in the boundary:\n",
    "#   - identify the two closest nodes;\n",
    "#   - introduce one node at distance h/3;\n",
    "#   - include the two segments in cell.\n",
    "\n",
    "        # Add a point in the direction i->j at 1/3 distance:\n",
    "        #new_dof = 2/3*dof_coords[i] + 1/3*dof_coords[k]\n",
    "        #new_idx = len(dof_coords_list)-1\n",
    "        #dof_coords_list.append(new_dof.tolist())"
   ]
  },
  {
   "cell_type": "code",
   "execution_count": 16,
   "id": "bc4d5af2",
   "metadata": {},
   "outputs": [],
   "source": [
    "def fill_dist_matrix(vect):\n",
    "    # Fills the distance matrix between points\n",
    "    n = len(vect)\n",
    "    dist_matrix = []\n",
    "\n",
    "    for i in range(n):\n",
    "        row = [np.zeros(n)]\n",
    "        for j in range(n):\n",
    "            row[j] = np.linalg.norm(vect[i]-vect[j])\n",
    "        row[i] = np.inf\n",
    "        dist_matrix.append(row)\n",
    "\n",
    "    return dist_matrix"
   ]
  },
  {
   "cell_type": "code",
   "execution_count": 14,
   "id": "0b009b21",
   "metadata": {},
   "outputs": [],
   "source": [
    "dof_coords = coord_func.dat.data_ro[dofs]\n",
    "\n",
    "# Fill the segments = cells of the 1D boundary mesh:\n",
    "n = len(dof_coords)\n",
    "segments = set()   # format \"set\" to ignore duplicates\n",
    "\n",
    "for i in range(n):\n",
    "\n",
    "    # Compute the distance with the others dofs:\n",
    "    dist = np.zeros(n)\n",
    "    for j in range(n):\n",
    "        dist[j] = np.linalg.norm(dof_coords[i]-dof_coords[j])\n",
    "    dist[i] = np.inf    # set distance with itself = inf\n",
    "\n",
    "    # Identify the indexes of the two neighbouring dofs of dof_coords[i]\n",
    "    neighbour_dofs = np.argsort(dist)[:2]\n",
    "\n",
    "    for k in neighbour_dofs:\n",
    "        segments.add(tuple(sorted([i,k])))\n",
    "\n",
    "# Convert \"segments\" in array:\n",
    "segments = np.array(list(segments))\n"
   ]
  },
  {
   "cell_type": "code",
   "execution_count": 55,
   "id": "f563c7d4",
   "metadata": {},
   "outputs": [
    {
     "data": {
      "text/plain": [
       "68"
      ]
     },
     "metadata": {},
     "output_type": "display_data"
    },
    {
     "data": {
      "text/plain": [
       "array([[32, 34],\n",
       "       [58, 59],\n",
       "       [18, 20],\n",
       "       [35, 36],\n",
       "       [44, 51],\n",
       "       [50, 61],\n",
       "       [61, 64],\n",
       "       [46, 51],\n",
       "       [ 0,  2],\n",
       "       [ 8,  9],\n",
       "       [23, 25],\n",
       "       [49, 50],\n",
       "       [40, 47],\n",
       "       [34, 37],\n",
       "       [65, 67],\n",
       "       [17, 18],\n",
       "       [ 1,  3],\n",
       "       [19, 21],\n",
       "       [28, 30],\n",
       "       [36, 40],\n",
       "       [45, 52],\n",
       "       [55, 56],\n",
       "       [37, 48],\n",
       "       [16, 19],\n",
       "       [ 6,  8],\n",
       "       [15, 17],\n",
       "       [24, 26],\n",
       "       [33, 35],\n",
       "       [41, 42],\n",
       "       [64, 65],\n",
       "       [59, 60],\n",
       "       [ 5,  6],\n",
       "       [20, 22],\n",
       "       [29, 31],\n",
       "       [43, 54],\n",
       "       [46, 47],\n",
       "       [14, 15],\n",
       "       [39, 44],\n",
       "       [ 0,  1],\n",
       "       [ 9, 10],\n",
       "       [ 2,  4],\n",
       "       [10, 11],\n",
       "       [11, 13],\n",
       "       [13, 16],\n",
       "       [30, 32],\n",
       "       [63, 66],\n",
       "       [ 7, 12],\n",
       "       [56, 57],\n",
       "       [25, 27],\n",
       "       [42, 43],\n",
       "       [26, 28],\n",
       "       [ 4,  7],\n",
       "       [12, 14],\n",
       "       [ 3,  5],\n",
       "       [21, 23],\n",
       "       [41, 53],\n",
       "       [38, 39],\n",
       "       [38, 45],\n",
       "       [22, 24],\n",
       "       [31, 33],\n",
       "       [52, 62],\n",
       "       [57, 58],\n",
       "       [49, 54],\n",
       "       [66, 67],\n",
       "       [48, 55],\n",
       "       [27, 29],\n",
       "       [62, 63],\n",
       "       [53, 60]])"
      ]
     },
     "metadata": {},
     "output_type": "display_data"
    }
   ],
   "source": [
    "display(len(dof_coords))\n",
    "display(segments)"
   ]
  },
  {
   "cell_type": "code",
   "execution_count": 15,
   "id": "2162eb59",
   "metadata": {},
   "outputs": [],
   "source": [
    "plex = plex_from_cell_list(1, segments, dof_coords, comm=mesh.comm)\n",
    "m = Mesh(plex, dim=1, reorder = True)\n",
    "m.init()"
   ]
  },
  {
   "cell_type": "code",
   "execution_count": 31,
   "id": "b5c0d6bb",
   "metadata": {},
   "outputs": [],
   "source": [
    "V = FunctionSpace(mesh,\"P\",1)\n",
    "Q = FunctionSpace(m, \"P\", 2)"
   ]
  },
  {
   "cell_type": "code",
   "execution_count": 32,
   "id": "e52499da",
   "metadata": {},
   "outputs": [],
   "source": [
    "x,y = SpatialCoordinate(m)\n",
    "f = Function(Q).interpolate(x**2+y**2)"
   ]
  },
  {
   "cell_type": "code",
   "execution_count": 30,
   "id": "6e24fa26",
   "metadata": {},
   "outputs": [
    {
     "data": {
      "text/plain": [
       "array([4.00010000e+00, 1.00010000e+00, 1.00000000e-04, 9.00010000e+00,\n",
       "       1.00010000e+00, 1.60001000e+01, 4.00010000e+00, 2.50001000e+01,\n",
       "       9.00010000e+00, 3.60001000e+01, 1.60001000e+01, 4.90001000e+01,\n",
       "       2.50001000e+01, 6.40001000e+01, 3.60001000e+01, 8.10001000e+01,\n",
       "       4.90001000e+01, 1.00000100e+02, 6.40001000e+01, 1.01018658e+02,\n",
       "       8.10001000e+01, 1.04034359e+02, 1.00000100e+02, 1.09047205e+02,\n",
       "       1.01018658e+02, 1.16057194e+02, 1.04034359e+02, 1.25064327e+02,\n",
       "       1.09047205e+02, 1.36068604e+02, 1.16057194e+02, 1.49070025e+02,\n",
       "       1.25064327e+02, 1.64068590e+02, 1.36068604e+02, 1.81064298e+02,\n",
       "       1.49070025e+02, 2.00057151e+02, 1.64068590e+02, 2.21047147e+02,\n",
       "       1.81064298e+02, 2.44034288e+02, 2.00057151e+02, 2.69018572e+02,\n",
       "       2.21047147e+02, 2.96000000e+02, 2.44034288e+02, 2.77000000e+02,\n",
       "       2.69018572e+02, 2.60000000e+02, 2.96000000e+02, 2.45000000e+02,\n",
       "       2.77000000e+02, 2.32000000e+02, 2.60000000e+02, 2.21000000e+02,\n",
       "       2.45000000e+02, 2.12000000e+02, 2.32000000e+02, 2.05000000e+02,\n",
       "       2.21000000e+02, 2.00000000e+02, 2.12000000e+02, 1.97000000e+02,\n",
       "       2.05000000e+02, 1.96000000e+02, 2.00000000e+02, 1.97000000e+02])"
      ]
     },
     "metadata": {},
     "output_type": "display_data"
    }
   ],
   "source": [
    "display(f.dat.data_ro[:])"
   ]
  },
  {
   "cell_type": "code",
   "execution_count": null,
   "id": "5ad3205d",
   "metadata": {},
   "outputs": [],
   "source": [
    "coord_func = Function(VectorFunctionSpace(Q.mesh(), \"CG\", 1)).interpolate(as_vector(SpatialCoordinate(Q.mesh())))\n",
    "nodes_coords = coord_func.dat.data_ro[:]\n",
    "dof_coords = Q.tabulate.dof_coordinates\n"
   ]
  },
  {
   "cell_type": "code",
   "execution_count": null,
   "id": "acac1db8",
   "metadata": {},
   "outputs": [
    {
     "ename": "AttributeError",
     "evalue": "'FunctionSpace' object has no attribute 'degrees_of_freedom'",
     "output_type": "error",
     "traceback": [
      "\u001b[31m---------------------------------------------------------------------------\u001b[39m",
      "\u001b[31mAttributeError\u001b[39m                            Traceback (most recent call last)",
      "\u001b[36mCell\u001b[39m\u001b[36m \u001b[39m\u001b[32mIn[38]\u001b[39m\u001b[32m, line 1\u001b[39m\n\u001b[32m----> \u001b[39m\u001b[32m1\u001b[39m \u001b[43mQ\u001b[49m\u001b[43m.\u001b[49m\u001b[43mdegrees_of_freedom\u001b[49m\n",
      "\u001b[36mFile \u001b[39m\u001b[32m/opt/firedrake/firedrake/functionspaceimpl.py:335\u001b[39m, in \u001b[36mWithGeometryBase.__getattr__\u001b[39m\u001b[34m(self, name)\u001b[39m\n\u001b[32m    334\u001b[39m \u001b[38;5;28;01mdef\u001b[39;00m\u001b[38;5;250m \u001b[39m\u001b[34m__getattr__\u001b[39m(\u001b[38;5;28mself\u001b[39m, name):\n\u001b[32m--> \u001b[39m\u001b[32m335\u001b[39m     val = \u001b[38;5;28;43mgetattr\u001b[39;49m\u001b[43m(\u001b[49m\u001b[38;5;28;43mself\u001b[39;49m\u001b[43m.\u001b[49m\u001b[43mtopological\u001b[49m\u001b[43m,\u001b[49m\u001b[43m \u001b[49m\u001b[43mname\u001b[49m\u001b[43m)\u001b[49m\n\u001b[32m    336\u001b[39m     \u001b[38;5;28msetattr\u001b[39m(\u001b[38;5;28mself\u001b[39m, name, val)\n\u001b[32m    337\u001b[39m     \u001b[38;5;28;01mreturn\u001b[39;00m val\n",
      "\u001b[31mAttributeError\u001b[39m: 'FunctionSpace' object has no attribute 'degrees_of_freedom'"
     ]
    }
   ],
   "source": []
  },
  {
   "cell_type": "code",
   "execution_count": 34,
   "id": "53afcf85",
   "metadata": {},
   "outputs": [
    {
     "data": {
      "text/plain": [
       "1.750000000015914"
      ]
     },
     "metadata": {},
     "output_type": "display_data"
    },
    {
     "data": {
      "text/plain": [
       "-3.000000000030873"
      ]
     },
     "metadata": {},
     "output_type": "display_data"
    },
    {
     "data": {
      "text/plain": [
       "-1.00000000002705"
      ]
     },
     "metadata": {},
     "output_type": "display_data"
    },
    {
     "data": {
      "text/plain": [
       "8.750000000055163"
      ]
     },
     "metadata": {},
     "output_type": "display_data"
    },
    {
     "data": {
      "text/plain": [
       "0.9999999999778879"
      ]
     },
     "metadata": {},
     "output_type": "display_data"
    },
    {
     "data": {
      "text/plain": [
       "9.750000000000547"
      ]
     },
     "metadata": {},
     "output_type": "display_data"
    },
    {
     "data": {
      "text/plain": [
       "-5.00000000010738"
      ]
     },
     "metadata": {},
     "output_type": "display_data"
    },
    {
     "data": {
      "text/plain": [
       "24.750000000060993"
      ]
     },
     "metadata": {},
     "output_type": "display_data"
    },
    {
     "data": {
      "text/plain": [
       "7.999999999970573"
      ]
     },
     "metadata": {},
     "output_type": "display_data"
    },
    {
     "data": {
      "text/plain": [
       "23.749999999952525"
      ]
     },
     "metadata": {},
     "output_type": "display_data"
    },
    {
     "data": {
      "text/plain": [
       "-1.2397904924910108e-10"
      ]
     },
     "metadata": {},
     "output_type": "display_data"
    },
    {
     "data": {
      "text/plain": [
       "46.75000000001061"
      ]
     },
     "metadata": {},
     "output_type": "display_data"
    },
    {
     "data": {
      "text/plain": [
       "20.99999999997806"
      ]
     },
     "metadata": {},
     "output_type": "display_data"
    },
    {
     "data": {
      "text/plain": [
       "43.7499999999017"
      ]
     },
     "metadata": {},
     "output_type": "display_data"
    },
    {
     "data": {
      "text/plain": [
       "10.999999999891998"
      ]
     },
     "metadata": {},
     "output_type": "display_data"
    },
    {
     "data": {
      "text/plain": [
       "74.75000000002385"
      ]
     },
     "metadata": {},
     "output_type": "display_data"
    },
    {
     "data": {
      "text/plain": [
       "40.00000000000016"
      ]
     },
     "metadata": {},
     "output_type": "display_data"
    },
    {
     "data": {
      "text/plain": [
       "69.74999999996339"
      ]
     },
     "metadata": {},
     "output_type": "display_data"
    },
    {
     "data": {
      "text/plain": [
       "27.999999999940115"
      ]
     },
     "metadata": {},
     "output_type": "display_data"
    },
    {
     "data": {
      "text/plain": [
       "88.76855765312455"
      ]
     },
     "metadata": {},
     "output_type": "display_data"
    },
    {
     "data": {
      "text/plain": [
       "65.00000000003686"
      ]
     },
     "metadata": {},
     "output_type": "display_data"
    },
    {
     "data": {
      "text/plain": [
       "61.784259183686416"
      ]
     },
     "metadata": {},
     "output_type": "display_data"
    },
    {
     "data": {
      "text/plain": [
       "51.00000000002071"
      ]
     },
     "metadata": {},
     "output_type": "display_data"
    },
    {
     "data": {
      "text/plain": [
       "88.79710459194749"
      ]
     },
     "metadata": {},
     "output_type": "display_data"
    },
    {
     "data": {
      "text/plain": [
       "76.01855765311821"
      ]
     },
     "metadata": {},
     "output_type": "display_data"
    },
    {
     "data": {
      "text/plain": [
       "59.8070938776692"
      ]
     },
     "metadata": {},
     "output_type": "display_data"
    },
    {
     "data": {
      "text/plain": [
       "40.03425918369655"
      ]
     },
     "metadata": {},
     "output_type": "display_data"
    },
    {
     "data": {
      "text/plain": [
       "94.81422704098912"
      ]
     },
     "metadata": {},
     "output_type": "display_data"
    },
    {
     "data": {
      "text/plain": [
       "73.04710459185262"
      ]
     },
     "metadata": {},
     "output_type": "display_data"
    },
    {
     "data": {
      "text/plain": [
       "63.818504081870685"
      ]
     },
     "metadata": {},
     "output_type": "display_data"
    },
    {
     "data": {
      "text/plain": [
       "35.05709387749167"
      ]
     },
     "metadata": {},
     "output_type": "display_data"
    },
    {
     "data": {
      "text/plain": [
       "106.81992500033758"
      ]
     },
     "metadata": {},
     "output_type": "display_data"
    },
    {
     "data": {
      "text/plain": [
       "76.06422704073867"
      ]
     },
     "metadata": {},
     "output_type": "display_data"
    },
    {
     "data": {
      "text/plain": [
       "73.81848979620227"
      ]
     },
     "metadata": {},
     "output_type": "display_data"
    },
    {
     "data": {
      "text/plain": [
       "36.06850408144115"
      ]
     },
     "metadata": {},
     "output_type": "display_data"
    },
    {
     "data": {
      "text/plain": [
       "124.81419846969072"
      ]
     },
     "metadata": {},
     "output_type": "display_data"
    },
    {
     "data": {
      "text/plain": [
       "85.0699249997705"
      ]
     },
     "metadata": {},
     "output_type": "display_data"
    },
    {
     "data": {
      "text/plain": [
       "99.79741517879675"
      ]
     },
     "metadata": {},
     "output_type": "display_data"
    },
    {
     "data": {
      "text/plain": [
       "63.04993214258731"
      ]
     },
     "metadata": {},
     "output_type": "display_data"
    },
    {
     "data": {
      "text/plain": [
       "148.79704744919195"
      ]
     },
     "metadata": {},
     "output_type": "display_data"
    },
    {
     "data": {
      "text/plain": [
       "100.06419846922014"
      ]
     },
     "metadata": {},
     "output_type": "display_data"
    },
    {
     "data": {
      "text/plain": [
       "141.75742232149955"
      ]
     },
     "metadata": {},
     "output_type": "display_data"
    },
    {
     "data": {
      "text/plain": [
       "96.02279183650981"
      ]
     },
     "metadata": {},
     "output_type": "display_data"
    },
    {
     "data": {
      "text/plain": [
       "178.76847193887102"
      ]
     },
     "metadata": {},
     "output_type": "display_data"
    },
    {
     "data": {
      "text/plain": [
       "121.04704744880516"
      ]
     },
     "metadata": {},
     "output_type": "display_data"
    },
    {
     "data": {
      "text/plain": [
       "189.7088610969088"
      ]
     },
     "metadata": {},
     "output_type": "display_data"
    },
    {
     "data": {
      "text/plain": [
       "134.9870831631348"
      ]
     },
     "metadata": {},
     "output_type": "display_data"
    },
    {
     "data": {
      "text/plain": [
       "176.74026415814234"
      ]
     },
     "metadata": {},
     "output_type": "display_data"
    },
    {
     "data": {
      "text/plain": [
       "167.9999142856256"
      ]
     },
     "metadata": {},
     "output_type": "display_data"
    },
    {
     "data": {
      "text/plain": [
       "147.69744374989284"
      ]
     },
     "metadata": {},
     "output_type": "display_data"
    },
    {
     "data": {
      "text/plain": [
       "179.9428061223604"
      ]
     },
     "metadata": {},
     "output_type": "display_data"
    },
    {
     "data": {
      "text/plain": [
       "142.7231345662845"
      ]
     },
     "metadata": {},
     "output_type": "display_data"
    },
    {
     "data": {
      "text/plain": [
       "172.96564081632076"
      ]
     },
     "metadata": {},
     "output_type": "display_data"
    },
    {
     "data": {
      "text/plain": [
       "111.68888252535119"
      ]
     },
     "metadata": {},
     "output_type": "display_data"
    },
    {
     "data": {
      "text/plain": [
       "134.935672959032"
      ]
     },
     "metadata": {},
     "output_type": "display_data"
    },
    {
     "data": {
      "text/plain": [
       "114.70886109690561"
      ]
     },
     "metadata": {},
     "output_type": "display_data"
    },
    {
     "data": {
      "text/plain": [
       "135.95279540818535"
      ]
     },
     "metadata": {},
     "output_type": "display_data"
    },
    {
     "data": {
      "text/plain": [
       "81.68317742325414"
      ]
     },
     "metadata": {},
     "output_type": "display_data"
    },
    {
     "data": {
      "text/plain": [
       "95.9313959181815"
      ]
     },
     "metadata": {},
     "output_type": "display_data"
    },
    {
     "data": {
      "text/plain": [
       "92.6974437500091"
      ]
     },
     "metadata": {},
     "output_type": "display_data"
    },
    {
     "data": {
      "text/plain": [
       "104.94280612257982"
      ]
     },
     "metadata": {},
     "output_type": "display_data"
    },
    {
     "data": {
      "text/plain": [
       "57.68032844359544"
      ]
     },
     "metadata": {},
     "output_type": "display_data"
    },
    {
     "data": {
      "text/plain": [
       "62.929974999783184"
      ]
     },
     "metadata": {},
     "output_type": "display_data"
    },
    {
     "data": {
      "text/plain": [
       "76.688882525592"
      ]
     },
     "metadata": {},
     "output_type": "display_data"
    },
    {
     "data": {
      "text/plain": [
       "79.93567295938077"
      ]
     },
     "metadata": {},
     "output_type": "display_data"
    },
    {
     "data": {
      "text/plain": [
       "39.68033558645607"
      ]
     },
     "metadata": {},
     "output_type": "display_data"
    },
    {
     "data": {
      "text/plain": [
       "35.93141020386736"
      ]
     },
     "metadata": {},
     "output_type": "display_data"
    },
    {
     "data": {
      "text/plain": [
       "66.68317742365517"
      ]
     },
     "metadata": {},
     "output_type": "display_data"
    }
   ],
   "source": [
    "for i in range(len(dof_coords)):\n",
    "    display(dof_coords[i][0]**2 + dof_coords[i][1]**2 - f.dat.data_ro[i])"
   ]
  },
  {
   "cell_type": "code",
   "execution_count": 10,
   "id": "46c59000",
   "metadata": {},
   "outputs": [],
   "source": [
    "x,y = SpatialCoordinate(mesh)\n",
    "f_2D = Function(V).interpolate(y)\n",
    "\n",
    "# Interpolation on boundary mesh:\n",
    "f_1D = Function(Q)\n",
    "boundary_nodes = DirichletBC(V_tool, 0.0, \"on_boundary\").nodes\n",
    "f_1D.dat.data[:] = f_2D.dat.data_ro[boundary_nodes]\n"
   ]
  },
  {
   "cell_type": "code",
   "execution_count": 11,
   "id": "4fee147b",
   "metadata": {},
   "outputs": [
    {
     "data": {
      "text/plain": [
       "array([ 1.0000000e+01,  1.0000000e+01,  1.0000000e+01,  1.0000000e+01,\n",
       "        1.0000000e+01,  1.0000000e+01,  1.0000000e+01,  1.0000000e+01,\n",
       "        1.0000000e+01,  1.0000000e+01,  1.0000000e+01,  9.0000000e+00,\n",
       "        1.0000000e+01,  8.0000000e+00,  1.0000000e+01,  1.0000000e+01,\n",
       "        7.0000000e+00,  1.0000000e+01,  9.0000000e+00,  6.0000000e+00,\n",
       "        8.0000000e+00,  5.0000000e+00,  7.0000000e+00,  4.0000000e+00,\n",
       "        6.0000000e+00,  3.0000000e+00,  5.0000000e+00,  2.0000000e+00,\n",
       "        4.0000000e+00,  1.0000000e+00,  3.0000000e+00, -1.2290613e-11,\n",
       "        2.0000000e+00, -1.0000000e+00,  1.0000000e+00, -2.0000000e+00,\n",
       "       -3.0000000e+00,  1.2290613e-11, -1.0000000e+01, -9.0000000e+00,\n",
       "       -4.0000000e+00, -9.0000000e+00, -1.0000000e+01, -1.0000000e+01,\n",
       "       -8.0000000e+00, -1.0000000e+01, -6.0000000e+00, -5.0000000e+00,\n",
       "       -1.0000000e+00, -1.0000000e+01, -1.0000000e+01, -7.0000000e+00,\n",
       "       -1.0000000e+01, -8.0000000e+00, -1.0000000e+01, -2.0000000e+00,\n",
       "       -3.0000000e+00, -4.0000000e+00, -5.0000000e+00, -6.0000000e+00,\n",
       "       -7.0000000e+00, -1.0000000e+01, -1.0000000e+01, -1.0000000e+01,\n",
       "       -1.0000000e+01, -1.0000000e+01, -1.0000000e+01, -1.0000000e+01])"
      ]
     },
     "execution_count": 11,
     "metadata": {},
     "output_type": "execute_result"
    }
   ],
   "source": [
    "f_1D.dat.data[:]"
   ]
  },
  {
   "cell_type": "code",
   "execution_count": 14,
   "id": "5c35b1ec",
   "metadata": {},
   "outputs": [
    {
     "data": {
      "text/plain": [
       "'Lagrange'"
      ]
     },
     "metadata": {},
     "output_type": "display_data"
    },
    {
     "data": {
      "text/plain": [
       "1"
      ]
     },
     "metadata": {},
     "output_type": "display_data"
    }
   ],
   "source": [
    "elem = V.ufl_element()\n",
    "display(elem.family())\n",
    "display(elem.degree())\n",
    "\n",
    "Q = FunctionSpace(m, elem.family(), elem.degree())"
   ]
  },
  {
   "cell_type": "markdown",
   "id": "573989d9",
   "metadata": {},
   "source": [
    "### TRY TO DEFINE THE GREEN FUNCTION:"
   ]
  },
  {
   "cell_type": "code",
   "execution_count": 18,
   "id": "162d9cf3",
   "metadata": {},
   "outputs": [],
   "source": [
    "def G_eval(xr,xz,yr,yz):\n",
    "    k2 = 4*xr*yr / ((xr+yr)**2+(xz-yz)**2)\n",
    "    k = sqrt(k2)\n",
    "    Kk = special.ellipk(k)\n",
    "    Ek = special.ellipe(k)\n",
    "    mu0 * sqrt(xr*yr) / (2*pi*k) * ( (2 - k2)*Kk - 2*Ek )"
   ]
  },
  {
   "cell_type": "code",
   "execution_count": 54,
   "id": "1436f481",
   "metadata": {},
   "outputs": [],
   "source": [
    "# Need to extract the dofs of the boundary elements!\n",
    "boundary_cells = mesh.topology.exterior_facets.facet_cell_map.values    #idx of boundary cells\n",
    "boundary_cells_nodes = set()"
   ]
  },
  {
   "cell_type": "code",
   "execution_count": 29,
   "id": "cb6d1308",
   "metadata": {},
   "outputs": [
    {
     "data": {
      "text/plain": [
       "5124"
      ]
     },
     "metadata": {},
     "output_type": "display_data"
    },
    {
     "data": {
      "text/plain": [
       "68"
      ]
     },
     "metadata": {},
     "output_type": "display_data"
    },
    {
     "data": {
      "text/plain": [
       "5124"
      ]
     },
     "metadata": {},
     "output_type": "display_data"
    },
    {
     "data": {
      "text/plain": [
       "68"
      ]
     },
     "metadata": {},
     "output_type": "display_data"
    }
   ],
   "source": [
    "display(len(V.cell_node_map().values[:]))\n",
    "display(len(V.cell_node_map().values[boundary_cells]))\n",
    "\n",
    "display(mesh.num_cells())\n",
    "display(len(boundary_cells))"
   ]
  },
  {
   "cell_type": "code",
   "execution_count": 55,
   "id": "37ec362e",
   "metadata": {},
   "outputs": [],
   "source": [
    "# Need to extract the dofs of the boundary elements!\n",
    "boundary_cells = mesh.topology.exterior_facets.facet_cell_map.values    #idx of boundary cells\n",
    "V_nodes = set()\n",
    "\n",
    "for nodes in V.cell_node_map().values[boundary_cells]:      # nodes format of kind: [[i,j,k]]\n",
    "    #display(nodes)\n",
    "    for node in nodes[0]:\n",
    "        V_nodes.add(node)\n",
    "\n",
    "boundary_cells_nodes = np.array(list(V_nodes))"
   ]
  },
  {
   "cell_type": "code",
   "execution_count": 56,
   "id": "f7e1ea42",
   "metadata": {},
   "outputs": [
    {
     "data": {
      "text/plain": [
       "array([   3,    4,    5, 1031,  520, 1032, 1033, 1034,   13,   18, 1042,\n",
       "       1044, 1045, 1046, 1047, 1048, 1049, 1050, 1051,   28, 1054, 1055,\n",
       "        547,   42,   46,   51,  567,  568, 1082, 1083,   61,  576,   69,\n",
       "         93, 1125,  102,  103, 1126, 1130,  619, 1131, 1132, 1133,  626,\n",
       "        115,  122,  123,  141,  142,  654,  144,  145,  653, 1169, 1172,\n",
       "       1171,  155,  165,  684,  177,  700,  189,  706,  707,  206,  215,\n",
       "        227,  750,  240,  756,  757,  760,  257,  258,  270,  281,  282,\n",
       "        292,  809,  816,  817,  310,  322,  839,  334,  345,  864,  869,\n",
       "        361,  888,  894,  382,  896,  895,  899,  901,  394,  920,  924,\n",
       "        925,  926,  927,  928,  929,  930,  931,  932,  933,  935,  428,\n",
       "        429,  439,  962,  967,  969,  970,  971,  972,  973,  974,  976,\n",
       "        977,  469,  486,  998,  999, 1000, 1001, 1002, 1003,  493,  509],\n",
       "      dtype=int32)"
      ]
     },
     "metadata": {},
     "output_type": "display_data"
    },
    {
     "data": {
      "text/plain": [
       "132"
      ]
     },
     "metadata": {},
     "output_type": "display_data"
    }
   ],
   "source": [
    "display(boundary_cells_nodes)\n",
    "display(len(boundary_cells_nodes))"
   ]
  },
  {
   "cell_type": "code",
   "execution_count": 57,
   "id": "48dace95",
   "metadata": {},
   "outputs": [],
   "source": [
    "# Add also the dofs iin the coils:\n",
    "coils_tag = [3,4,5,6,7,8,9,10,11,12,13,14]\n",
    "\n",
    "for tag in coils_tag:\n",
    "    coil_cells = mesh.cell_subset(tag).indices\n",
    "    #display(coil_cells)\n",
    "    for dofs in V.cell_node_map().values[coil_cells]:\n",
    "        #display(dofs)\n",
    "        for dof in dofs:    # per qualche motivo ora dofs ha un formato diverso da prima, non devo fare dofs[0]\n",
    "            V_nodes.add(dof)\n",
    "\n",
    "V_nodes = np.array(list(V_nodes))"
   ]
  },
  {
   "cell_type": "code",
   "execution_count": 58,
   "id": "a9d12d89",
   "metadata": {},
   "outputs": [
    {
     "name": "stderr",
     "output_type": "stream",
     "text": [
      "No artists with labels found to put in legend.  Note that artists whose label start with an underscore are ignored when legend() is called with no argument.\n"
     ]
    },
    {
     "data": {
      "image/png": "[encoded data removed]",
      "text/plain": [
       "<Figure size 640x480 with 2 Axes>"
      ]
     },
     "metadata": {},
     "output_type": "display_data"
    }
   ],
   "source": [
    "# test -> function which is 0 everywhere and 1 on boundary elements\n",
    "f = Function(V)\n",
    "f.dat.data[V_nodes] = 1\n",
    "\n",
    "fig, ax = plt.subplots()\n",
    "fig.colorbar(tripcolor(f, axes=ax))\n",
    "plt.title(r\"test: 1 on bdry elements, 0 elsewhere\")\n",
    "plt.xlabel(\"x\")\n",
    "plt.ylabel(\"y\")\n",
    "plt.legend()\n",
    "plt.axis('equal')\n",
    "plt.show()"
   ]
  },
  {
   "cell_type": "code",
   "execution_count": 20,
   "id": "c245e2e8",
   "metadata": {},
   "outputs": [],
   "source": [
    "from scipy import special\n",
    "#x,y = SpatialCoordinate(mesh)\n",
    "mu0 = 4e-7 * pi\n",
    "\n",
    "V = FunctionSpace(mesh, 'P', 1)\n",
    "Green = Function(V)\n",
    "K = Function(V)\n",
    "V = Function(V)\n",
    "\n",
    "dof_coords = coord_func.dat.data_ro[:]\n",
    "\n",
    "# Define G(x,y) with y being a boundary dof:\n",
    "for idx in dofs:\n",
    "    X = dof_coords[idx]\n",
    "    Y = dof_coords[idx]\n",
    "    Green.dat.data[idx] = G_eval(X[0],X[1],Y[0],Y[1])"
   ]
  },
  {
   "cell_type": "code",
   "execution_count": null,
   "id": "16d43c72",
   "metadata": {},
   "outputs": [],
   "source": [
    "Q = FunctionSpace(m, \"DG\", 0)"
   ]
  }
 ],
 "metadata": {
  "kernelspec": {
   "display_name": "Python (Firedrake)",
   "language": "python",
   "name": "firedrake"
  },
  "language_info": {
   "codemirror_mode": {
    "name": "ipython",
    "version": 3
   },
   "file_extension": ".py",
   "mimetype": "text/x-python",
   "name": "python",
   "nbconvert_exporter": "python",
   "pygments_lexer": "ipython3",
   "version": "3.12.3"
  }
 },
 "nbformat": 4,
 "nbformat_minor": 5
}
