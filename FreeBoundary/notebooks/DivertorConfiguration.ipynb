{
 "cells": [
  {
   "cell_type": "code",
   "execution_count": 1,
   "id": "5fc91b85",
   "metadata": {},
   "outputs": [],
   "source": [
    "from firedrake import *\n",
    "from firedrake.pyplot import *\n",
    "import matplotlib.pyplot as plt\n",
    "import numpy as np\n",
    "from firedrake.cython import dmcommon\n",
    "from firedrake.mesh import plex_from_cell_list"
   ]
  },
  {
   "cell_type": "code",
   "execution_count": 2,
   "id": "05f8178e",
   "metadata": {},
   "outputs": [],
   "source": [
    "mesh = Mesh(\"../meshes/ITER.msh\", dim = 2, distribution_parameters={\"partition\": False}, reorder = True)\n",
    "mesh.init()"
   ]
  },
  {
   "cell_type": "code",
   "execution_count": 14,
   "id": "0ac46e9d",
   "metadata": {},
   "outputs": [],
   "source": [
    "# Define a function space as tool to access nodes and cells:\n",
    "V_tool = FunctionSpace(mesh, \"CG\", 1)\n",
    "\n",
    "# Fill \"dof_coords\" vector with the coordinates of the boundary nodes of the 2D mesh\n",
    "coord_func = Function(VectorFunctionSpace(mesh, \"CG\", 1)).interpolate(as_vector(SpatialCoordinate(mesh)))\n",
    "dofs = DirichletBC(V_tool, 0.0, \"on_boundary\").nodes\n",
    "dof_coords = coord_func.dat.data_ro[dofs]"
   ]
  },
  {
   "cell_type": "code",
   "execution_count": 15,
   "id": "72295336",
   "metadata": {},
   "outputs": [
    {
     "data": {
      "text/plain": [
       "array([[ 7.00500000e+00,  1.00000000e+01],\n",
       "       [ 8.00428571e+00,  1.00000000e+01],\n",
       "       [ 6.00571429e+00,  1.00000000e+01],\n",
       "       [ 9.00357143e+00,  1.00000000e+01],\n",
       "       [ 5.00642857e+00,  1.00000000e+01],\n",
       "       [ 1.00028571e+01,  1.00000000e+01],\n",
       "       [ 1.10021429e+01,  1.00000000e+01],\n",
       "       [ 4.00714286e+00,  1.00000000e+01],\n",
       "       [ 1.20014286e+01,  1.00000000e+01],\n",
       "       [ 1.30007143e+01,  1.00000000e+01],\n",
       "       [ 1.40000000e+01,  1.00000000e+01],\n",
       "       [ 1.40000000e+01,  9.00000000e+00],\n",
       "       [ 3.00785714e+00,  1.00000000e+01],\n",
       "       [ 1.40000000e+01,  8.00000000e+00],\n",
       "       [ 2.00857143e+00,  1.00000000e+01],\n",
       "       [ 1.00928571e+00,  1.00000000e+01],\n",
       "       [ 1.40000000e+01,  7.00000000e+00],\n",
       "       [ 1.00000000e-02,  1.00000000e+01],\n",
       "       [ 1.00000000e-02,  9.00000000e+00],\n",
       "       [ 1.40000000e+01,  6.00000000e+00],\n",
       "       [ 1.00000000e-02,  8.00000000e+00],\n",
       "       [ 1.40000000e+01,  5.00000000e+00],\n",
       "       [ 1.00000000e-02,  7.00000000e+00],\n",
       "       [ 1.40000000e+01,  4.00000000e+00],\n",
       "       [ 1.00000000e-02,  6.00000000e+00],\n",
       "       [ 1.40000000e+01,  3.00000000e+00],\n",
       "       [ 1.00000000e-02,  5.00000000e+00],\n",
       "       [ 1.40000000e+01,  2.00000000e+00],\n",
       "       [ 1.00000000e-02,  4.00000000e+00],\n",
       "       [ 1.40000000e+01,  1.00000000e+00],\n",
       "       [ 1.00000000e-02,  3.00000000e+00],\n",
       "       [ 1.40000000e+01, -1.22906130e-11],\n",
       "       [ 1.00000000e-02,  2.00000000e+00],\n",
       "       [ 1.40000000e+01, -1.00000000e+00],\n",
       "       [ 1.00000000e-02,  1.00000000e+00],\n",
       "       [ 1.40000000e+01, -2.00000000e+00],\n",
       "       [ 1.40000000e+01, -3.00000000e+00],\n",
       "       [ 1.00000000e-02,  1.22906130e-11],\n",
       "       [ 1.40000000e+01, -1.00000000e+01],\n",
       "       [ 1.40000000e+01, -9.00000000e+00],\n",
       "       [ 1.40000000e+01, -4.00000000e+00],\n",
       "       [ 1.00000000e-02, -9.00000000e+00],\n",
       "       [ 1.00000000e-02, -1.00000000e+01],\n",
       "       [ 1.00928571e+00, -1.00000000e+01],\n",
       "       [ 1.40000000e+01, -8.00000000e+00],\n",
       "       [ 1.30007143e+01, -1.00000000e+01],\n",
       "       [ 1.40000000e+01, -6.00000000e+00],\n",
       "       [ 1.40000000e+01, -5.00000000e+00],\n",
       "       [ 1.00000000e-02, -1.00000000e+00],\n",
       "       [ 3.00785714e+00, -1.00000000e+01],\n",
       "       [ 4.00714286e+00, -1.00000000e+01],\n",
       "       [ 1.40000000e+01, -7.00000000e+00],\n",
       "       [ 1.20014286e+01, -1.00000000e+01],\n",
       "       [ 1.00000000e-02, -8.00000000e+00],\n",
       "       [ 2.00857143e+00, -1.00000000e+01],\n",
       "       [ 1.00000000e-02, -2.00000000e+00],\n",
       "       [ 1.00000000e-02, -3.00000000e+00],\n",
       "       [ 1.00000000e-02, -4.00000000e+00],\n",
       "       [ 1.00000000e-02, -5.00000000e+00],\n",
       "       [ 1.00000000e-02, -6.00000000e+00],\n",
       "       [ 1.00000000e-02, -7.00000000e+00],\n",
       "       [ 5.00642857e+00, -1.00000000e+01],\n",
       "       [ 1.10021429e+01, -1.00000000e+01],\n",
       "       [ 1.00028571e+01, -1.00000000e+01],\n",
       "       [ 6.00571429e+00, -1.00000000e+01],\n",
       "       [ 7.00500000e+00, -1.00000000e+01],\n",
       "       [ 9.00357143e+00, -1.00000000e+01],\n",
       "       [ 8.00428571e+00, -1.00000000e+01]])"
      ]
     },
     "metadata": {},
     "output_type": "display_data"
    }
   ],
   "source": [
    "display(dof_coords)\n",
    "# It shows that boundary dofs are not ordered."
   ]
  },
  {
   "cell_type": "code",
   "execution_count": null,
   "id": "211cd750",
   "metadata": {},
   "outputs": [
    {
     "data": {
      "text/plain": [
       "68"
      ]
     },
     "metadata": {},
     "output_type": "display_data"
    },
    {
     "data": {
      "text/plain": [
       "68"
      ]
     },
     "metadata": {},
     "output_type": "display_data"
    }
   ],
   "source": [
    "facets = mesh.topology.exterior_facets.facets\n",
    "boundary_cells = mesh.topology.exterior_facets.facet_cell_map.values\n",
    "#display(facets)            # indici delle faces\n",
    "display(len(facets))        \n",
    "#display(boundary_cells)\n",
    "display(len(boundary_cells)) # indici delle celle al bordo\n",
    "\n",
    "# Meglio usare direttamente il vettore dei dof_coords:"
   ]
  },
  {
   "cell_type": "code",
   "execution_count": null,
   "id": "adff7029",
   "metadata": {},
   "outputs": [],
   "source": [
    "# For each dof in the boundary:\n",
    "#   - identify the two closest nodes;\n",
    "#   - introduce one node at distance h/3;\n",
    "#   - include the two segments in cell.\n",
    "\n",
    "        # Add a point in the direction i->j at 1/3 distance:\n",
    "        #new_dof = 2/3*dof_coords[i] + 1/3*dof_coords[k]\n",
    "        #new_idx = len(dof_coords_list)-1\n",
    "        #dof_coords_list.append(new_dof.tolist())"
   ]
  },
  {
   "cell_type": "code",
   "execution_count": 16,
   "id": "bc4d5af2",
   "metadata": {},
   "outputs": [],
   "source": [
    "def fill_dist_matrix(vect):\n",
    "    # Fills the distance matrix between points\n",
    "    n = len(vect)\n",
    "    dist_matrix = []\n",
    "\n",
    "    for i in range(n):\n",
    "        row = [np.zeros(n)]\n",
    "        for j in range(n):\n",
    "            row[j] = np.linalg.norm(vect[i]-vect[j])\n",
    "        row[i] = np.inf\n",
    "        dist_matrix.append(row)\n",
    "\n",
    "    return dist_matrix"
   ]
  },
  {
   "cell_type": "code",
   "execution_count": 54,
   "id": "0b009b21",
   "metadata": {},
   "outputs": [],
   "source": [
    "dof_coords = coord_func.dat.data_ro[dofs]\n",
    "\n",
    "# Fill the segments = cells of the 1D boundary mesh:\n",
    "n = len(dof_coords)\n",
    "segments = set()   # format \"set\" to ignore duplicates\n",
    "\n",
    "for i in range(n):\n",
    "\n",
    "    # Compute the distance with the others dofs:\n",
    "    dist = np.zeros(n)\n",
    "    for j in range(n):\n",
    "        dist[j] = np.linalg.norm(dof_coords[i]-dof_coords[j])\n",
    "    dist[i] = np.inf    # set distance with itself = inf\n",
    "\n",
    "    # Identify the indexes of the two neighbouring dofs of dof_coords[i]\n",
    "    neighbour_dofs = np.argsort(dist)[:2]\n",
    "\n",
    "    for k in neighbour_dofs:\n",
    "        segments.add(tuple(sorted([i,k])))\n",
    "\n",
    "# Convert \"segments\" in array:\n",
    "segments = np.array(list(segments))\n"
   ]
  },
  {
   "cell_type": "code",
   "execution_count": 55,
   "id": "f563c7d4",
   "metadata": {},
   "outputs": [
    {
     "data": {
      "text/plain": [
       "68"
      ]
     },
     "metadata": {},
     "output_type": "display_data"
    },
    {
     "data": {
      "text/plain": [
       "array([[32, 34],\n",
       "       [58, 59],\n",
       "       [18, 20],\n",
       "       [35, 36],\n",
       "       [44, 51],\n",
       "       [50, 61],\n",
       "       [61, 64],\n",
       "       [46, 51],\n",
       "       [ 0,  2],\n",
       "       [ 8,  9],\n",
       "       [23, 25],\n",
       "       [49, 50],\n",
       "       [40, 47],\n",
       "       [34, 37],\n",
       "       [65, 67],\n",
       "       [17, 18],\n",
       "       [ 1,  3],\n",
       "       [19, 21],\n",
       "       [28, 30],\n",
       "       [36, 40],\n",
       "       [45, 52],\n",
       "       [55, 56],\n",
       "       [37, 48],\n",
       "       [16, 19],\n",
       "       [ 6,  8],\n",
       "       [15, 17],\n",
       "       [24, 26],\n",
       "       [33, 35],\n",
       "       [41, 42],\n",
       "       [64, 65],\n",
       "       [59, 60],\n",
       "       [ 5,  6],\n",
       "       [20, 22],\n",
       "       [29, 31],\n",
       "       [43, 54],\n",
       "       [46, 47],\n",
       "       [14, 15],\n",
       "       [39, 44],\n",
       "       [ 0,  1],\n",
       "       [ 9, 10],\n",
       "       [ 2,  4],\n",
       "       [10, 11],\n",
       "       [11, 13],\n",
       "       [13, 16],\n",
       "       [30, 32],\n",
       "       [63, 66],\n",
       "       [ 7, 12],\n",
       "       [56, 57],\n",
       "       [25, 27],\n",
       "       [42, 43],\n",
       "       [26, 28],\n",
       "       [ 4,  7],\n",
       "       [12, 14],\n",
       "       [ 3,  5],\n",
       "       [21, 23],\n",
       "       [41, 53],\n",
       "       [38, 39],\n",
       "       [38, 45],\n",
       "       [22, 24],\n",
       "       [31, 33],\n",
       "       [52, 62],\n",
       "       [57, 58],\n",
       "       [49, 54],\n",
       "       [66, 67],\n",
       "       [48, 55],\n",
       "       [27, 29],\n",
       "       [62, 63],\n",
       "       [53, 60]])"
      ]
     },
     "metadata": {},
     "output_type": "display_data"
    }
   ],
   "source": [
    "display(len(dof_coords))\n",
    "display(segments)"
   ]
  },
  {
   "cell_type": "code",
   "execution_count": 61,
   "id": "2162eb59",
   "metadata": {},
   "outputs": [],
   "source": [
    "plex = plex_from_cell_list(1, segments, dof_coords, comm=mesh.comm)\n",
    "m = Mesh(plex, dim=1, reorder = True)\n",
    "m.init()"
   ]
  },
  {
   "cell_type": "code",
   "execution_count": 62,
   "id": "b5c0d6bb",
   "metadata": {},
   "outputs": [],
   "source": [
    "V = FunctionSpace(mesh,\"P\",1)\n",
    "Q = FunctionSpace(m, \"P\", 1)"
   ]
  },
  {
   "cell_type": "code",
   "execution_count": 65,
   "id": "46c59000",
   "metadata": {},
   "outputs": [],
   "source": [
    "x,y = SpatialCoordinate(mesh)\n",
    "f_2D = Function(V).interpolate(y)\n",
    "\n",
    "# Interpolation on boundary mesh:\n",
    "f_1D = Function(Q).zero()\n",
    "boundary_nodes = dofs = DirichletBC(V_tool, 0.0, \"on_boundary\").nodes\n",
    "f_1D.dat.data[:] = f_2D.dat.data_ro[boundary_nodes]\n"
   ]
  },
  {
   "cell_type": "code",
   "execution_count": 66,
   "id": "4fee147b",
   "metadata": {},
   "outputs": [
    {
     "data": {
      "text/plain": [
       "array([ 1.0000000e+01,  1.0000000e+01,  1.0000000e+01,  1.0000000e+01,\n",
       "        1.0000000e+01,  1.0000000e+01,  1.0000000e+01,  1.0000000e+01,\n",
       "        1.0000000e+01,  1.0000000e+01,  1.0000000e+01,  9.0000000e+00,\n",
       "        1.0000000e+01,  8.0000000e+00,  1.0000000e+01,  1.0000000e+01,\n",
       "        7.0000000e+00,  1.0000000e+01,  9.0000000e+00,  6.0000000e+00,\n",
       "        8.0000000e+00,  5.0000000e+00,  7.0000000e+00,  4.0000000e+00,\n",
       "        6.0000000e+00,  3.0000000e+00,  5.0000000e+00,  2.0000000e+00,\n",
       "        4.0000000e+00,  1.0000000e+00,  3.0000000e+00, -1.2290613e-11,\n",
       "        2.0000000e+00, -1.0000000e+00,  1.0000000e+00, -2.0000000e+00,\n",
       "       -3.0000000e+00,  1.2290613e-11, -1.0000000e+01, -9.0000000e+00,\n",
       "       -4.0000000e+00, -9.0000000e+00, -1.0000000e+01, -1.0000000e+01,\n",
       "       -8.0000000e+00, -1.0000000e+01, -6.0000000e+00, -5.0000000e+00,\n",
       "       -1.0000000e+00, -1.0000000e+01, -1.0000000e+01, -7.0000000e+00,\n",
       "       -1.0000000e+01, -8.0000000e+00, -1.0000000e+01, -2.0000000e+00,\n",
       "       -3.0000000e+00, -4.0000000e+00, -5.0000000e+00, -6.0000000e+00,\n",
       "       -7.0000000e+00, -1.0000000e+01, -1.0000000e+01, -1.0000000e+01,\n",
       "       -1.0000000e+01, -1.0000000e+01, -1.0000000e+01, -1.0000000e+01])"
      ]
     },
     "execution_count": 66,
     "metadata": {},
     "output_type": "execute_result"
    }
   ],
   "source": [
    "f_1D.dat.data[:]"
   ]
  }
 ],
 "metadata": {
  "kernelspec": {
   "display_name": "Python (Firedrake)",
   "language": "python",
   "name": "firedrake"
  },
  "language_info": {
   "codemirror_mode": {
    "name": "ipython",
    "version": 3
   },
   "file_extension": ".py",
   "mimetype": "text/x-python",
   "name": "python",
   "nbconvert_exporter": "python",
   "pygments_lexer": "ipython3",
   "version": "3.12.3"
  }
 },
 "nbformat": 4,
 "nbformat_minor": 5
}
