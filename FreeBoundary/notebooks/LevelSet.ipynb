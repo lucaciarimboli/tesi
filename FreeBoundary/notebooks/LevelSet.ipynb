{
 "cells": [
  {
   "cell_type": "markdown",
   "id": "06b94122",
   "metadata": {},
   "source": [
    "### Use Level Set method to extract distance function from the plasma boundary"
   ]
  },
  {
   "cell_type": "code",
   "execution_count": 17,
   "id": "11ccfd6b",
   "metadata": {},
   "outputs": [],
   "source": [
    "from firedrake import *\n",
    "from firedrake.pyplot import *\n",
    "import matplotlib.pyplot as plt"
   ]
  },
  {
   "cell_type": "code",
   "execution_count": 18,
   "id": "c475e964",
   "metadata": {},
   "outputs": [],
   "source": [
    "def G(R, psi_norm):\n",
    "    r0 = 6.2\n",
    "    alpha = 2.0\n",
    "    beta = 0.5978\n",
    "    gamma = 1.395\n",
    "    lambda_ = 1.365461e6\n",
    "    return lambda_ * (beta * R / r0 + (1 - beta) * r0 / R) * abs(1 - psi_norm**alpha) ** gamma\n",
    "\n",
    "params = {\n",
    "    \"geometry\": \"ITER\",\n",
    "    \"I\": [-8.208e5, -8.621e4, 2.783e6, 1.703e6, -6.491e5, -7.971e5, -2.026e6, -2.508e6, -2.15e6, -1.874e6, -3.607e6, -2.303e6],\n",
    "    \"j_cv\": 0,                # Vessel wall current density\n",
    "    \"function_space_family\": \"P\",\n",
    "    \"function_space_degree\": 1,\n",
    "    \"max_iterations\": 1000,\n",
    "    \"tolerance\": 1e-5,\n",
    "    \"verbose\": True,\n",
    "    \"G\": G,\n",
    "    # Initial guess (can be a Constant or a Firedrake Function)\n",
    "    \"initial_guess\": Constant(1e-4),\n",
    "    \"algorithm\": \"Picard\",\n",
    "}\n",
    "\n",
    "mesh = Mesh(\"../meshes/ITER.msh\", dim = 2, distribution_parameters={\"partition\": False}, reorder = True)\n",
    "params[\"mesh\"] = mesh"
   ]
  },
  {
   "cell_type": "code",
   "execution_count": 20,
   "id": "ec699823",
   "metadata": {},
   "outputs": [
    {
     "name": "stdout",
     "output_type": "stream",
     "text": [
      "\n",
      "Loading mesh for geometry 'ITER'...\n"
     ]
    },
    {
     "ename": "Error",
     "evalue": "error code 65\n[0] DMPlexCreateFromFile() at /opt/petsc/src/dm/impls/plex/plexcreate.c:6249\n[0] DMPlexCreateGmshFromFile() at /opt/petsc/src/dm/impls/plex/plexgmsh.c:1511\n[0] PetscViewerFileSetName() at /opt/petsc/src/sys/classes/viewer/impls/ascii/filev.c:764\n[0] PetscViewerFileSetName_ASCII() at /opt/petsc/src/sys/classes/viewer/impls/ascii/filev.c:868\n[0] Unable to open file\n[0] Cannot open PetscViewer file: ./meshes/ITER.msh due to \"No such file or directory\"",
     "output_type": "error",
     "traceback": [
      "\u001b[31m---------------------------------------------------------------------------\u001b[39m",
      "\u001b[31mError\u001b[39m                                     Traceback (most recent call last)",
      "\u001b[36mCell\u001b[39m\u001b[36m \u001b[39m\u001b[32mIn[20]\u001b[39m\u001b[32m, line 2\u001b[39m\n\u001b[32m      1\u001b[39m \u001b[38;5;28;01mfrom\u001b[39;00m\u001b[38;5;250m \u001b[39m\u001b[34;01msolver\u001b[39;00m\u001b[38;5;250m \u001b[39m\u001b[38;5;28;01mimport\u001b[39;00m GradShafranovSolver\n\u001b[32m----> \u001b[39m\u001b[32m2\u001b[39m solver = \u001b[43mGradShafranovSolver\u001b[49m\u001b[43m(\u001b[49m\u001b[43mparams\u001b[49m\u001b[43m)\u001b[49m\n",
      "\u001b[36mFile \u001b[39m\u001b[32m/home/tesi/FreeBoundary/notebooks/../solver/solver.py:26\u001b[39m, in \u001b[36mGradShafranovSolver.__init__\u001b[39m\u001b[34m(self, params)\u001b[39m\n\u001b[32m     23\u001b[39m \u001b[38;5;28mself\u001b[39m.params = params\n\u001b[32m     25\u001b[39m \u001b[38;5;66;03m# Initialize the mesh and function spaces\u001b[39;00m\n\u001b[32m---> \u001b[39m\u001b[32m26\u001b[39m \u001b[38;5;28;43mself\u001b[39;49m\u001b[43m.\u001b[49m\u001b[43mbuild_mesh\u001b[49m\u001b[43m(\u001b[49m\u001b[43m)\u001b[49m\n\u001b[32m     27\u001b[39m \u001b[38;5;28mself\u001b[39m.Mesh.init()\n\u001b[32m     28\u001b[39m \u001b[38;5;28mself\u001b[39m.function_spaces()\n",
      "\u001b[36mFile \u001b[39m\u001b[32m/home/tesi/FreeBoundary/notebooks/../solver/solver.py:151\u001b[39m, in \u001b[36mGradShafranovSolver.build_mesh\u001b[39m\u001b[34m(self)\u001b[39m\n\u001b[32m    147\u001b[39m path = \u001b[33m\"\u001b[39m\u001b[33m./meshes/\u001b[39m\u001b[33m\"\u001b[39m + \u001b[38;5;28mself\u001b[39m.params[\u001b[33m'\u001b[39m\u001b[33mgeometry\u001b[39m\u001b[33m'\u001b[39m] + \u001b[33m\"\u001b[39m\u001b[33m.msh\u001b[39m\u001b[33m\"\u001b[39m\n\u001b[32m    148\u001b[39m \u001b[38;5;66;03m#if not os.path.exists(path):\u001b[39;00m\n\u001b[32m    149\u001b[39m \u001b[38;5;66;03m#    raise FileNotFoundError(f\"Mesh file {path} does not exist.\")\u001b[39;00m\n\u001b[32m    150\u001b[39m \u001b[38;5;66;03m#else: \u001b[39;00m\n\u001b[32m--> \u001b[39m\u001b[32m151\u001b[39m \u001b[38;5;28mself\u001b[39m.Mesh = \u001b[43mMesh\u001b[49m\u001b[43m(\u001b[49m\u001b[43mpath\u001b[49m\u001b[43m,\u001b[49m\u001b[43m \u001b[49m\u001b[43mdim\u001b[49m\u001b[43m \u001b[49m\u001b[43m=\u001b[49m\u001b[43m \u001b[49m\u001b[32;43m2\u001b[39;49m\u001b[43m,\u001b[49m\u001b[43m \u001b[49m\u001b[43mdistribution_parameters\u001b[49m\u001b[43m=\u001b[49m\u001b[43m{\u001b[49m\u001b[33;43m\"\u001b[39;49m\u001b[33;43mpartition\u001b[39;49m\u001b[33;43m\"\u001b[39;49m\u001b[43m:\u001b[49m\u001b[43m \u001b[49m\u001b[38;5;28;43;01mFalse\u001b[39;49;00m\u001b[43m}\u001b[49m\u001b[43m,\u001b[49m\u001b[43m \u001b[49m\u001b[43mreorder\u001b[49m\u001b[43m \u001b[49m\u001b[43m=\u001b[49m\u001b[43m \u001b[49m\u001b[38;5;28;43;01mTrue\u001b[39;49;00m\u001b[43m)\u001b[49m\n",
      "\u001b[36mFile \u001b[39m\u001b[32mpetsc4py/PETSc/Log.pyx:188\u001b[39m, in \u001b[36mpetsc4py.PETSc.Log.EventDecorator.decorator.wrapped_func\u001b[39m\u001b[34m()\u001b[39m\n",
      "\u001b[36mFile \u001b[39m\u001b[32mpetsc4py/PETSc/Log.pyx:189\u001b[39m, in \u001b[36mpetsc4py.PETSc.Log.EventDecorator.decorator.wrapped_func\u001b[39m\u001b[34m()\u001b[39m\n",
      "\u001b[36mFile \u001b[39m\u001b[32m/opt/firedrake/firedrake/mesh.py:3090\u001b[39m, in \u001b[36mMesh\u001b[39m\u001b[34m(meshfile, **kwargs)\u001b[39m\n\u001b[32m   3088\u001b[39m     opts = OptionsManager(opts, \u001b[33m\"\u001b[39m\u001b[33m\"\u001b[39m)\n\u001b[32m   3089\u001b[39m     \u001b[38;5;28;01mwith\u001b[39;00m opts.inserted_options():\n\u001b[32m-> \u001b[39m\u001b[32m3090\u001b[39m         plex = \u001b[43m_from_gmsh\u001b[49m\u001b[43m(\u001b[49m\u001b[43mmeshfile\u001b[49m\u001b[43m,\u001b[49m\u001b[43m \u001b[49m\u001b[43muser_comm\u001b[49m\u001b[43m)\u001b[49m\n\u001b[32m   3091\u001b[39m \u001b[38;5;28;01melif\u001b[39;00m ext.lower() == \u001b[33m'\u001b[39m\u001b[33m.node\u001b[39m\u001b[33m'\u001b[39m:\n\u001b[32m   3092\u001b[39m     plex = _from_triangle(meshfile, geometric_dim, user_comm)\n",
      "\u001b[36mFile \u001b[39m\u001b[32mpetsc4py/PETSc/Log.pyx:188\u001b[39m, in \u001b[36mpetsc4py.PETSc.Log.EventDecorator.decorator.wrapped_func\u001b[39m\u001b[34m()\u001b[39m\n",
      "\u001b[36mFile \u001b[39m\u001b[32mpetsc4py/PETSc/Log.pyx:189\u001b[39m, in \u001b[36mpetsc4py.PETSc.Log.EventDecorator.decorator.wrapped_func\u001b[39m\u001b[34m()\u001b[39m\n",
      "\u001b[36mFile \u001b[39m\u001b[32m/opt/firedrake/firedrake/mesh.py:369\u001b[39m, in \u001b[36m_from_gmsh\u001b[39m\u001b[34m(filename, comm)\u001b[39m\n\u001b[32m    363\u001b[39m \u001b[38;5;250m\u001b[39m\u001b[33;03m\"\"\"Read a Gmsh .msh file from `filename`.\u001b[39;00m\n\u001b[32m    364\u001b[39m \n\u001b[32m    365\u001b[39m \u001b[33;03m:kwarg comm: Optional communicator to build the mesh on (defaults to\u001b[39;00m\n\u001b[32m    366\u001b[39m \u001b[33;03m    COMM_WORLD).\u001b[39;00m\n\u001b[32m    367\u001b[39m \u001b[33;03m\"\"\"\u001b[39;00m\n\u001b[32m    368\u001b[39m comm = comm \u001b[38;5;129;01mor\u001b[39;00m COMM_WORLD\n\u001b[32m--> \u001b[39m\u001b[32m369\u001b[39m gmsh_plex = \u001b[43mPETSc\u001b[49m\u001b[43m.\u001b[49m\u001b[43mDMPlex\u001b[49m\u001b[43m(\u001b[49m\u001b[43m)\u001b[49m\u001b[43m.\u001b[49m\u001b[43mcreateFromFile\u001b[49m\u001b[43m(\u001b[49m\u001b[43mfilename\u001b[49m\u001b[43m,\u001b[49m\u001b[43m \u001b[49m\u001b[43mcomm\u001b[49m\u001b[43m=\u001b[49m\u001b[43mcomm\u001b[49m\u001b[43m)\u001b[49m\n\u001b[32m    371\u001b[39m \u001b[38;5;28;01mreturn\u001b[39;00m gmsh_plex\n",
      "\u001b[36mFile \u001b[39m\u001b[32mpetsc4py/PETSc/DMPlex.pyx:222\u001b[39m, in \u001b[36mpetsc4py.PETSc.DMPlex.createFromFile\u001b[39m\u001b[34m()\u001b[39m\n",
      "\u001b[31mError\u001b[39m: error code 65\n[0] DMPlexCreateFromFile() at /opt/petsc/src/dm/impls/plex/plexcreate.c:6249\n[0] DMPlexCreateGmshFromFile() at /opt/petsc/src/dm/impls/plex/plexgmsh.c:1511\n[0] PetscViewerFileSetName() at /opt/petsc/src/sys/classes/viewer/impls/ascii/filev.c:764\n[0] PetscViewerFileSetName_ASCII() at /opt/petsc/src/sys/classes/viewer/impls/ascii/filev.c:868\n[0] Unable to open file\n[0] Cannot open PetscViewer file: ./meshes/ITER.msh due to \"No such file or directory\""
     ]
    }
   ],
   "source": [
    "from solver import GradShafranovSolver\n",
    "solver = GradShafranovSolver(params)"
   ]
  }
 ],
 "metadata": {
  "kernelspec": {
   "display_name": "Python (Firedrake)",
   "language": "python",
   "name": "firedrake"
  },
  "language_info": {
   "codemirror_mode": {
    "name": "ipython",
    "version": 3
   },
   "file_extension": ".py",
   "mimetype": "text/x-python",
   "name": "python",
   "nbconvert_exporter": "python",
   "pygments_lexer": "ipython3",
   "version": "3.12.3"
  }
 },
 "nbformat": 4,
 "nbformat_minor": 5
}
