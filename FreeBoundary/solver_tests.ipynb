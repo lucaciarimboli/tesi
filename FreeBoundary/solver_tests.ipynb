{
 "cells": [
  {
   "cell_type": "code",
   "execution_count": 1,
   "id": "f30b77d2",
   "metadata": {},
   "outputs": [],
   "source": [
    "from firedrake import *\n",
    "from firedrake.pyplot import *\n",
    "import matplotlib.pyplot as plt\n",
    "from solver import GradShafranovSolver"
   ]
  },
  {
   "cell_type": "code",
   "execution_count": null,
   "id": "c2f17372",
   "metadata": {},
   "outputs": [],
   "source": [
    "mesh = Mesh(\"meshes/ITER.msh\", dim = 2, distribution_parameters={\"partition\": False}, reorder = True)\n",
    "mesh.init()\n",
    "hier = MeshHierarchy(mesh, 2)"
   ]
  },
  {
   "cell_type": "code",
   "execution_count": 3,
   "id": "d1978c3f",
   "metadata": {},
   "outputs": [],
   "source": [
    "def j(R, psi_norm):\n",
    "    r0 = 6.2\n",
    "    alpha = 2.0\n",
    "    beta = 0.5978\n",
    "    gamma = 1.395\n",
    "    lambda_ = 1.365461e6\n",
    "    return lambda_ * (beta * R / r0 + (1 - beta) * r0 / R) * (1 - psi_norm**alpha) ** gamma"
   ]
  },
  {
   "cell_type": "code",
   "execution_count": null,
   "id": "52a8927b",
   "metadata": {},
   "outputs": [],
   "source": [
    "params = {\n",
    "    \"geometry\": \"ITER\",\n",
    "    \"I\": [-6.705e5, 1.373e4, 2.133e6, 1.432e6, -3.774e5, -6.172e5, -1.885e6, -2.359e6, -2.124e6, -1.836e6, -3.491e6, -2.04e6],\n",
    "    \"j_cv\": 0,                # Vessel wall current density\n",
    "    \"function_space_family\": \"P\",\n",
    "    \"function_space_degree\": 2,\n",
    "    \"max_iterations\": 1000,\n",
    "    \"tolerance\": 1e-4,\n",
    "    \"verbose\": True,\n",
    "    \"G\": j,\n",
    "    \"algorithm\": \"Newton\",\n",
    "}"
   ]
  },
  {
   "cell_type": "code",
   "execution_count": null,
   "id": "21cc178d",
   "metadata": {},
   "outputs": [
    {
     "name": "stdout",
     "output_type": "stream",
     "text": [
      "\n",
      "Loading mesh for geometry 'ITER'...\n",
      "Defining function spaces of 'P2' type...\n",
      "Defining function spaces of 'P2' type...\n",
      "Initializing Grad-Shafranov problem...\n",
      "\n",
      "No initial guess provided, using default values...\n"
     ]
    }
   ],
   "source": [
    "solver = GradShafranovSolver(params)\n",
    "\n",
    "# Set mesh4 as mesh:\n",
    "solver.Mesh = hier[2]\n",
    "solver.Mesh.init()\n",
    "solver.function_spaces()\n",
    "# Set boundary conditions\n",
    "solver.BCs = DirichletBC(solver.V, 0.0, solver.tags['boundary'])\n",
    "solver.limiter = DirichletBC(solver.V, 0.0, solver.tags['limiter']).nodes\n",
    "\n",
    "# Solve with the finest mesh:\n",
    "solver.solve()\n",
    "solver.plot_flux()"
   ]
  }
 ],
 "metadata": {
  "kernelspec": {
   "display_name": "Python (Firedrake)",
   "language": "python",
   "name": "firedrake"
  },
  "language_info": {
   "codemirror_mode": {
    "name": "ipython",
    "version": 3
   },
   "file_extension": ".py",
   "mimetype": "text/x-python",
   "name": "python",
   "nbconvert_exporter": "python",
   "pygments_lexer": "ipython3",
   "version": "3.12.3"
  }
 },
 "nbformat": 4,
 "nbformat_minor": 5
}
